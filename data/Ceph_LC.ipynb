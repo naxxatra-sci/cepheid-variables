{
 "cells": [
  {
   "cell_type": "markdown",
   "metadata": {},
   "source": [
    "# Producing a light curve from observational data\n",
    "\n",
    "\n",
    "The dataset is from the following source\n",
    "http://www.mso.anu.edu.au/\\~jerjen/researchprojects/cepheids/cepheid_data/"
   ]
  },
  {
   "cell_type": "code",
   "execution_count": 5,
   "metadata": {},
   "outputs": [],
   "source": [
    "import os\n",
    "import glob\n",
    "import subprocess\n",
    "import numpy as np\n",
    "import pandas as pd\n",
    "from astropy.io import fits\n",
    "import matplotlib.pyplot as plt\n",
    "from astropy.table import Table\n",
    "from astropy.visualization import astropy_mpl_style\n",
    "\n",
    "%matplotlib inline"
   ]
  },
  {
   "cell_type": "code",
   "execution_count": 6,
   "metadata": {},
   "outputs": [],
   "source": [
    "files = glob.glob('*.fits')\n",
    "#files"
   ]
  },
  {
   "cell_type": "code",
   "execution_count": 4,
   "metadata": {
    "scrolled": false
   },
   "outputs": [],
   "source": [
    "hdu = fits.open(files[0])\n",
    "header = hdu[0].header\n",
    "#header"
   ]
  },
  {
   "cell_type": "code",
   "execution_count": 7,
   "metadata": {},
   "outputs": [],
   "source": [
    "def get_img(self): #smart way #returns 2D array from fits file data\n",
    "    hdul = fits.open(self)\n",
    "    image = np.asarray(hdul[0].data)\n",
    "    #image = np.array(image).astype(np.float16)\n",
    "    #reads data section of fits into an array as float\n",
    "    hdul.close() #closing the file. GOTTA save RAM!\n",
    "    return image"
   ]
  },
  {
   "cell_type": "code",
   "execution_count": null,
   "metadata": {},
   "outputs": [],
   "source": [
    "def imgshow(self): #display the image\n",
    "    plt.figure(figsize=(8,8)) #size\n",
    "    plt.style.use(astropy_mpl_style) #styling and gimmicks of astropy\n",
    "    plt.imshow(self,vmin=np.median(self)-1*np.std(self),\n",
    "               vmax=np.median(self)+10*np.std(self),cmap='gray')\n",
    "    #use this for contrast stretching\n",
    "\n",
    "    plt.colorbar() #a bar showing the scale of the image\n",
    "    plt.show()\n",
    "    plt.close()"
   ]
  }
 ],
 "metadata": {
  "kernelspec": {
   "display_name": "Python 3",
   "language": "python",
   "name": "python3"
  },
  "language_info": {
   "codemirror_mode": {
    "name": "ipython",
    "version": 3
   },
   "file_extension": ".py",
   "mimetype": "text/x-python",
   "name": "python",
   "nbconvert_exporter": "python",
   "pygments_lexer": "ipython3",
   "version": "3.7.3"
  }
 },
 "nbformat": 4,
 "nbformat_minor": 2
}
