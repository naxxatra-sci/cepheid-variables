{
 "cells": [
  {
   "cell_type": "markdown",
   "metadata": {},
   "source": [
    "# Producing a light curve from observational data\n",
    "\n",
    "\n",
    "The dataset is from the following source\n",
    "http://www.mso.anu.edu.au/~jerjen/researchprojects/cepheids/cepheids.html\n",
    "\n",
    "Let's begin by importing all the necessary libraries"
   ]
  },
  {
   "cell_type": "code",
   "execution_count": 1,
   "metadata": {},
   "outputs": [],
   "source": [
    "import os\n",
    "import glob\n",
    "import subprocess\n",
    "import numpy as np\n",
    "import pandas as pd\n",
    "from astropy.io import fits\n",
    "from astropy.wcs import WCS\n",
    "import matplotlib.pyplot as plt\n",
    "from astropy.table import Table\n",
    "from astropy.visualization import astropy_mpl_style\n",
    "\n",
    "%matplotlib inline"
   ]
  },
  {
   "cell_type": "markdown",
   "metadata": {},
   "source": [
    "---\n",
    "\n",
    "Reading all the fits files into a list"
   ]
  },
  {
   "cell_type": "code",
   "execution_count": 2,
   "metadata": {},
   "outputs": [],
   "source": [
    "files = glob.glob('*.fits')\n",
    "#files"
   ]
  },
  {
   "cell_type": "markdown",
   "metadata": {},
   "source": [
    "Let's see what information we can find about the images from their FITS headers"
   ]
  },
  {
   "cell_type": "code",
   "execution_count": 3,
   "metadata": {},
   "outputs": [],
   "source": [
    "hdu = fits.open(files[0])\n",
    "#header = hdu[0].header\n",
    "#header"
   ]
  },
  {
   "cell_type": "code",
   "execution_count": 4,
   "metadata": {},
   "outputs": [
    {
     "name": "stderr",
     "output_type": "stream",
     "text": [
      "WARNING: VerifyWarning: Verification reported errors: [astropy.io.fits.verify]\n",
      "WARNING: VerifyWarning: Card keyword 'CCDr-SRT' is not upper case.  Fixed 'CCDR-SRT' card to meet the FITS standard. [astropy.io.fits.verify]\n",
      "WARNING: VerifyWarning: Note: astropy.io.fits uses zero-based indexing.\n",
      " [astropy.io.fits.verify]\n",
      "WARNING: VerifyWarning: Card keyword 'AluR-SRT' is not upper case.  Fixed 'ALUR-SRT' card to meet the FITS standard. [astropy.io.fits.verify]\n",
      "WARNING: VerifyWarning: Card keyword 'TFr-SRT' is not upper case.  Fixed 'TFR-SRT' card to meet the FITS standard. [astropy.io.fits.verify]\n",
      "WARNING: VerifyWarning: Card keyword 'CCDb-SRT' is not upper case.  Fixed 'CCDB-SRT' card to meet the FITS standard. [astropy.io.fits.verify]\n",
      "WARNING: VerifyWarning: Card keyword 'AluB-SRT' is not upper case.  Fixed 'ALUB-SRT' card to meet the FITS standard. [astropy.io.fits.verify]\n",
      "WARNING: VerifyWarning: Card keyword 'TFb-SRT' is not upper case.  Fixed 'TFB-SRT' card to meet the FITS standard. [astropy.io.fits.verify]\n",
      "WARNING: VerifyWarning: Card keyword 'Tele-SRT' is not upper case.  Fixed 'TELE-SRT' card to meet the FITS standard. [astropy.io.fits.verify]\n",
      "WARNING: VerifyWarning: Card keyword 'Mirr-SRT' is not upper case.  Fixed 'MIRR-SRT' card to meet the FITS standard. [astropy.io.fits.verify]\n",
      "WARNING: VerifyWarning: Card keyword 'Ext-SRT' is not upper case.  Fixed 'EXT-SRT' card to meet the FITS standard. [astropy.io.fits.verify]\n",
      "WARNING: VerifyWarning: Card keyword 'Cube-SRT' is not upper case.  Fixed 'CUBE-SRT' card to meet the FITS standard. [astropy.io.fits.verify]\n",
      "WARNING: FITSFixedWarning: 'datfix' made the change 'Set MJD-OBS to 51904.000000 from DATE-OBS.\n",
      "Changed DATE-OBS from '26/12/2000' to '2000-12-26''. [astropy.wcs.wcs]\n"
     ]
    }
   ],
   "source": [
    "w = WCS(hdu[0].header)\n",
    "#w"
   ]
  },
  {
   "cell_type": "code",
   "execution_count": 5,
   "metadata": {},
   "outputs": [],
   "source": [
    "def get_img(self): #smart way #returns 2D array from fits file data\n",
    "    hdul = fits.open(self)\n",
    "    image = np.asarray(hdul[0].data)\n",
    "    #image = np.array(image).astype(np.float16)\n",
    "    #reads data section of fits into an array as float\n",
    "    hdul.close() #closing the file. GOTTA save RAM!\n",
    "    return image"
   ]
  },
  {
   "cell_type": "code",
   "execution_count": 12,
   "metadata": {},
   "outputs": [],
   "source": [
    "def imgshow(image): #display the image\n",
    "    plt.figure(figsize=(8,8)) #size\n",
    "    plt.style.use(astropy_mpl_style) #styling and gimmicks of astropy\n",
    "    plt.imshow(image,vmin=np.median(image)-1*np.std(image),\n",
    "               vmax=np.median(image)+10*np.std(image),cmap='gray')\n",
    "    #use this for contrast stretching\n",
    "\n",
    "    plt.colorbar() #a bar showing the scale of the image\n",
    "    plt.grid()\n",
    "    plt.show()\n",
    "    #plt.close()"
   ]
  },
  {
   "cell_type": "code",
   "execution_count": 13,
   "metadata": {},
   "outputs": [],
   "source": [
    "%matplotlib tk\n",
    "imgshow(hdu[0].data)\n"
   ]
  },
  {
   "cell_type": "code",
   "execution_count": 8,
   "metadata": {},
   "outputs": [],
   "source": [
    "from photutils import CircularAperture\n",
    "positions = [(101., 101.), (103., 172.)]\n",
    "aperture = CircularAperture(positions, r=3.)"
   ]
  },
  {
   "cell_type": "code",
   "execution_count": null,
   "metadata": {},
   "outputs": [],
   "source": []
  }
 ],
 "metadata": {
  "kernelspec": {
   "display_name": "Python 3",
   "language": "python",
   "name": "python3"
  },
  "language_info": {
   "codemirror_mode": {
    "name": "ipython",
    "version": 3
   },
   "file_extension": ".py",
   "mimetype": "text/x-python",
   "name": "python",
   "nbconvert_exporter": "python",
   "pygments_lexer": "ipython3",
   "version": "3.8.5"
  }
 },
 "nbformat": 4,
 "nbformat_minor": 4
}
